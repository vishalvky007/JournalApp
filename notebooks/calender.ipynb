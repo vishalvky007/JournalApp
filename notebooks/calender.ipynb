{
 "cells": [
  {
   "cell_type": "code",
   "execution_count": null,
   "metadata": {},
   "outputs": [
    {
     "name": "stdout",
     "output_type": "stream",
     "text": [
      "Getting the upcoming 10 events\n",
      "2025-07-10 Arnav Rawat's birthday\n",
      "2025-09-19 Happy birthday!\n",
      "2025-10-05 Shreyansh Tripathi's birthday\n",
      "2025-10-25 Swayam's birthday\n",
      "2025-10-28 Nayan Mattoo's birthday\n",
      "2025-11-02 Gitesh Anand's birthday\n",
      "2025-12-26 Lakshay Ai SRM's birthday\n",
      "2026-01-05 Hannah's birthday\n",
      "2026-02-04T17:00:00+05:30 Akansha's Birthday\n",
      "2026-07-10 Arnav Rawat's birthday\n"
     ]
    }
   ],
   "source": [
    "from googleapiclient.discovery import build\n",
    "from google_auth_oauthlib.flow import InstalledAppFlow\n",
    "from google.auth.transport.requests import Request\n",
    "import os.path\n",
    "import pickle\n",
    "import datetime\n",
    "# If modifying these SCOPES, delete the file token.pickle.\n",
    "SCOPES = ['https://www.googleapis.com/auth/calendar.readonly']\n",
    "\n",
    "def main():\n",
    "    \"\"\"Shows basic usage of the Google Calendar API.\n",
    "    Lists the next 10 events on the user's calendar.\n",
    "    \"\"\"\n",
    "    creds = None\n",
    "    # The file token.pickle stores the user's access and refresh tokens, and is\n",
    "    # created automatically when the authorization flow completes for the first\n",
    "    # time.\n",
    "    if os.path.exists('token.pickle'):\n",
    "        with open('token.pickle', 'rb') as token:\n",
    "            creds = pickle.load(token)\n",
    "    # If there are no (valid) credentials available, let the user log in.\n",
    "    if not creds or not creds.valid:\n",
    "        if creds and creds.expired and creds.refresh_token:\n",
    "            creds.refresh(Request())\n",
    "        else:\n",
    "            flow = InstalledAppFlow.from_client_secrets_file(\n",
    "                'credentials.json', SCOPES)\n",
    "            creds = flow.run_local_server(port=0)\n",
    "        # Save the credentials for the next run\n",
    "        with open('token.pickle', 'wb') as token:\n",
    "            pickle.dump(creds, token)\n",
    "\n",
    "    service = build('calendar', 'v3', credentials=creds)\n",
    "\n",
    "    # Call the Calendar API\n",
    "    now = datetime.datetime.utcnow().isoformat() + 'Z' # 'Z' indicates UTC time\n",
    "    print('Getting the upcoming 10 events')\n",
    "    events_result = service.events().list(calendarId='primary', timeMin=now,\n",
    "                                          maxResults=10, singleEvents=True,\n",
    "                                          orderBy='startTime').execute()\n",
    "    events = events_result.get('items', [])\n",
    "\n",
    "    if not events:\n",
    "        print('No upcoming events found.')\n",
    "    for event in events:\n",
    "        start = event['start'].get('dateTime', event['start'].get('date'))\n",
    "        print(start, event['summary'])\n",
    "\n",
    "if __name__ == '__main__':\n",
    "    main()"
   ]
  },
  {
   "cell_type": "code",
   "execution_count": 10,
   "metadata": {},
   "outputs": [
    {
     "name": "stdout",
     "output_type": "stream",
     "text": [
      "Fetching all calendars:\n",
      "mehtakushaagra@gmail.com\n",
      "CSE-B BASIC ELECTRICAL AND ELECTRONICS ENGINEERING\n",
      "CSE- (AIML) Section-B Section-B\n",
      "CSE-(AIML)-B B\n",
      "CSE-AIML (EGD) Sec- B\n",
      "CSE AIML B B\n",
      "CSE- AIML SEC-B\n",
      "New Python Calendar\n"
     ]
    }
   ],
   "source": [
    "from googleapiclient.discovery import build\n",
    "from google_auth_oauthlib.flow import InstalledAppFlow\n",
    "from google.auth.transport.requests import Request\n",
    "from datetime import datetime, timedelta\n",
    "import os.path\n",
    "import pickle\n",
    "\n",
    "SCOPES = ['https://www.googleapis.com/auth/calendar']\n",
    "\n",
    "\n",
    "creds = None\n",
    "\n",
    "if os.path.exists('token.pickle'):\n",
    "    with open('token.pickle', 'rb') as token:\n",
    "        creds = pickle.load(token)\n",
    "\n",
    "if not creds or not creds.valid:\n",
    "    if creds and creds.expired and creds.refresh_token:\n",
    "        creds.refresh(Request())\n",
    "    else:\n",
    "        flow = InstalledAppFlow.from_client_secrets_file(\n",
    "            'credentials.json', SCOPES)\n",
    "        creds = flow.run_local_server(port=0)\n",
    "\n",
    "    with open('token.pickle', 'wb') as token:\n",
    "        pickle.dump(creds, token)\n",
    "\n",
    "service = build('calendar', 'v3', credentials=creds)\n",
    "\n",
    "# Feature 1: List all calendars\n",
    "print(\"Fetching all calendars:\")\n",
    "calendar_list = service.calendarList().list().execute().get('items', [])\n",
    "for calendar in calendar_list:\n",
    "    print(calendar['summary'])\n",
    "\n"
   ]
  },
  {
   "cell_type": "code",
   "execution_count": 11,
   "metadata": {},
   "outputs": [
    {
     "name": "stdout",
     "output_type": "stream",
     "text": [
      "Created calendar: 61be9956b266573fd99fcad18387a433928eab046f92c4df7e5137f98c044de2@group.calendar.google.com\n"
     ]
    }
   ],
   "source": [
    "new_calendar = {\n",
    "    'summary': 'New Python Calendar',\n",
    "    'timeZone': 'America/Los_Angeles'\n",
    "}\n",
    "created_calendar = service.calendars().insert(body=new_calendar).execute()\n",
    "print(f\"Created calendar: {created_calendar['id']}\")"
   ]
  },
  {
   "cell_type": "code",
   "execution_count": 12,
   "metadata": {},
   "outputs": [
    {
     "name": "stdout",
     "output_type": "stream",
     "text": [
      "mehtakushaagra@gmail.com\n",
      "CSE-B BASIC ELECTRICAL AND ELECTRONICS ENGINEERING\n",
      "CSE- (AIML) Section-B Section-B\n",
      "CSE-(AIML)-B B\n",
      "CSE-AIML (EGD) Sec- B\n",
      "CSE AIML B B\n",
      "CSE- AIML SEC-B\n",
      "New Python Calendar\n",
      "New Python Calendar\n"
     ]
    }
   ],
   "source": [
    "calendar_list = service.calendarList().list().execute().get('items', [])\n",
    "for calendar in calendar_list:\n",
    "    print(calendar['summary'])"
   ]
  },
  {
   "cell_type": "code",
   "execution_count": 13,
   "metadata": {},
   "outputs": [
    {
     "name": "stdout",
     "output_type": "stream",
     "text": [
      "Created event: rnppvg0mlp73fa0fcmc2rk6f88\n"
     ]
    }
   ],
   "source": [
    "    # Feature 3: Insert an event\n",
    "event = {\n",
    "    'summary': 'Python Meeting',\n",
    "    'location': '800 Howard St., San Francisco, CA 94103',\n",
    "    'description': 'A meeting to discuss Python projects.',\n",
    "    'start': {\n",
    "        'dateTime': (datetime.now() + timedelta(days=1)).isoformat(),\n",
    "        'timeZone': 'America/Los_Angeles',\n",
    "    },\n",
    "    'end': {\n",
    "        'dateTime': (datetime.now() + timedelta(days=1, hours=1)).isoformat(),\n",
    "        'timeZone': 'America/Los_Angeles',\n",
    "    },\n",
    "}\n",
    "created_event = service.events().insert(calendarId=created_calendar['id'], body=event).execute()\n",
    "print(f\"Created event: {created_event['id']}\")"
   ]
  },
  {
   "cell_type": "code",
   "execution_count": 16,
   "metadata": {},
   "outputs": [
    {
     "name": "stdout",
     "output_type": "stream",
     "text": [
      "Getting the upcoming 10 events\n",
      "2025-07-10 Arnav Rawat's birthday\n",
      "2025-09-19 Happy birthday!\n",
      "2025-10-05 Shreyansh Tripathi's birthday\n",
      "2025-10-25 Swayam's birthday\n",
      "2025-10-28 Nayan Mattoo's birthday\n",
      "2025-11-02 Gitesh Anand's birthday\n",
      "2025-12-26 Lakshay Ai SRM's birthday\n",
      "2026-01-05 Hannah's birthday\n",
      "2026-02-04T17:00:00+05:30 Akansha's Birthday\n",
      "2026-07-10 Arnav Rawat's birthday\n"
     ]
    }
   ],
   "source": [
    "# print all events\n",
    "\n",
    "now = datetime.now().isoformat() + 'Z' # 'Z' indicates UTC time\n",
    "print('Getting the upcoming 10 events')\n",
    "events_result = service.events().list(calendarId='primary', timeMin=now,\n",
    "                                        maxResults=10, singleEvents=True,\n",
    "                                        orderBy='startTime').execute()\n",
    "events = events_result.get('items', [])\n",
    "\n",
    "if not events:\n",
    "    print('No upcoming events found.')\n",
    "for event in events:\n",
    "    start = event['start'].get('dateTime', event['start'].get('date'))\n",
    "    print(start, event['summary'])"
   ]
  },
  {
   "cell_type": "code",
   "execution_count": 17,
   "metadata": {},
   "outputs": [],
   "source": [
    "# Feature 2: Create a new calendar\n",
    "    \n",
    "\n",
    "\n",
    "\n",
    "    # Feature 4: Update an event\n",
    "    # updated_event = created_event\n",
    "    # updated_event['description'] = 'An updated meeting to discuss Python projects.'\n",
    "    # updated_event = service.events().update(calendarId=created_calendar['id'], eventId=created_event['id'], body=updated_event).execute()\n",
    "    # print(f\"Updated event: {updated_event['id']}\")\n",
    "\n",
    "    # # Feature 5: Delete an event\n",
    "    # service.events().delete(calendarId=created_calendar['id'], eventId=updated_event['id']).execute()\n",
    "    # print(f\"Deleted event: {updated_event['id']}\")\n",
    "\n"
   ]
  },
  {
   "cell_type": "markdown",
   "metadata": {},
   "source": [
    "## LLM Part"
   ]
  },
  {
   "cell_type": "code",
   "execution_count": 20,
   "metadata": {},
   "outputs": [],
   "source": [
    "from langchain_groq import ChatGroq\n",
    "import os\n",
    "from dotenv import load_dotenv\n",
    "load_dotenv()\n",
    "API = os.environ['GROQ_API']"
   ]
  },
  {
   "cell_type": "code",
   "execution_count": 21,
   "metadata": {},
   "outputs": [
    {
     "data": {
      "text/plain": [
       "ChatGroq(client=<groq.resources.chat.completions.Completions object at 0x000001CDF3BAF850>, async_client=<groq.resources.chat.completions.AsyncCompletions object at 0x000001CDF3BB83D0>, model_name='gemma2-9b-it', model_kwargs={}, groq_api_key=SecretStr('**********'))"
      ]
     },
     "execution_count": 21,
     "metadata": {},
     "output_type": "execute_result"
    }
   ],
   "source": [
    "llm = ChatGroq(api_key=API, model=\"gemma2-9b-it\")\n",
    "llm"
   ]
  },
  {
   "cell_type": "code",
   "execution_count": 22,
   "metadata": {},
   "outputs": [],
   "source": [
    "from pydantic import BaseModel, Field\n",
    "from typing import Optional, Literal\n",
    "from datetime import datetime\n",
    "\n",
    "class CalendarOutput(BaseModel):\n",
    "    \"\"\" A data model for structuring event details in a calendar application.\n",
    "\n",
    "    Attributes:\n",
    "        start_date (datetime): The start date and time of the event.\n",
    "        end_date (Optional[datetime]): The end date and time of the event (optional).\n",
    "        title (str): The title or name of the event.\n",
    "        description (str): A brief description of the event.\n",
    "\n",
    "    This class ensures that event details are stored in a structured format,\n",
    "    making it easy to process, validate, and integrate into scheduling systems.\"\n",
    "    \"\"\"\n",
    "    start_date: datetime = Field(description=\"The start date and time of the event.\")\n",
    "    end_date: Optional[datetime] = Field(description=\"The end date and time of the event (optional)\")\n",
    "    title: str = Field(description=\"The title or name of the event.\")\n",
    "    description: str =Field(description=\"A brief description of the event.\")\n",
    "\n",
    "    \n",
    "    # operation : Literal['add_event']\n",
    "\n",
    "def extract_event_details(text: str) -> CalendarOutput:\n",
    "    \"\"\"\n",
    "    Extracts event details from natural language text and returns them in a structured format.\n",
    "\n",
    "    Args:\n",
    "        text (str): The input sentence describing an event.\n",
    "\n",
    "    Returns:\n",
    "        CalendarOutput: The structured event details.\n",
    "    \"\"\"\n",
    "    pass\n"
   ]
  },
  {
   "cell_type": "code",
   "execution_count": 23,
   "metadata": {},
   "outputs": [],
   "source": [
    "from langchain.prompts import PromptTemplate\n",
    "from langchain.output_parsers import PydanticOutputParser\n",
    "\n",
    "parser = PydanticOutputParser(pydantic_object=CalendarOutput)\n"
   ]
  },
  {
   "cell_type": "code",
   "execution_count": 24,
   "metadata": {},
   "outputs": [],
   "source": [
    "\n",
    "prompt = PromptTemplate(\n",
    "    template=\"\"\"\n",
    "    Extract the event details from the following input and return the structured output in JSON format:\n",
    "\n",
    "    {input_text}\n",
    "\n",
    "    {format_instructions}\n",
    "    Give output only in JSON format\n",
    "    \"\"\",\n",
    "    input_variables=[\"input_text\"],\n",
    "    partial_variables={\"format_instructions\": parser.get_format_instructions()}\n",
    ")\n"
   ]
  },
  {
   "cell_type": "code",
   "execution_count": 25,
   "metadata": {},
   "outputs": [],
   "source": [
    "\n",
    "def extract_calendar_event(input_text: str):\n",
    "    formatted_prompt = prompt.format(input_text=input_text)\n",
    "    response = llm.predict(formatted_prompt)\n",
    "    json_parsed =  parser.parse(response)\n",
    "    # return response\n",
    "    # resp = CalendarOutput()\n",
    "    # resp.start_date = json_parsed.start_date.replace('datetime.datetime', '')\n",
    "    # resp.end_date = json_parsed.end_date.replace('datetime.datetime', '')\n",
    "    # resp.description = json_parsed.description\n",
    "    # resp.title = json_parsed.title\n",
    "    return json_parsed\n",
    "\n",
    "\n"
   ]
  },
  {
   "cell_type": "code",
   "execution_count": 26,
   "metadata": {},
   "outputs": [
    {
     "name": "stdout",
     "output_type": "stream",
     "text": [
      "start_date=datetime.datetime(2025, 3, 25, 10, 0) end_date=datetime.datetime(2025, 3, 25, 12, 0) title='Meeting with the product team' description='to discuss the launch plan'\n"
     ]
    }
   ],
   "source": [
    "\n",
    "# Example Usage\n",
    "input_text = \"Meeting with the product team on March 25, 2025, from 10 AM to 12 PM to discuss the launch plan.\"\n",
    "calendar_event = extract_calendar_event(input_text)\n",
    "print(calendar_event)\n"
   ]
  },
  {
   "cell_type": "code",
   "execution_count": 36,
   "metadata": {},
   "outputs": [
    {
     "data": {
      "text/plain": [
       "__main__.CalendarOutput"
      ]
     },
     "execution_count": 36,
     "metadata": {},
     "output_type": "execute_result"
    }
   ],
   "source": [
    "type(calendar_event)"
   ]
  },
  {
   "cell_type": "code",
   "execution_count": 33,
   "metadata": {},
   "outputs": [
    {
     "data": {
      "text/plain": [
       "datetime.datetime(2025, 3, 25, 10, 0)"
      ]
     },
     "execution_count": 33,
     "metadata": {},
     "output_type": "execute_result"
    }
   ],
   "source": [
    "calendar_event.start_date"
   ]
  },
  {
   "cell_type": "code",
   "execution_count": 35,
   "metadata": {},
   "outputs": [
    {
     "name": "stdout",
     "output_type": "stream",
     "text": [
      "start_date=datetime.datetime(2025, 3, 25, 10, 0) end_date=datetime.datetime(2025, 3, 25, 12, 0) title='to discuss the launch plan' description='Meeting with the product team'\n"
     ]
    }
   ],
   "source": [
    "obj = CalendarOutput(start_date=calendar_event.start_date,\n",
    "                     end_date=calendar_event.end_date,\n",
    "                     title=calendar_event.description,\n",
    "                     description=calendar_event.title)\n",
    "print (obj)\n",
    "# obj.start_date = calendar_event.start_date\n",
    "# obj.end_date = calendar_event.end_date\n",
    "# obj.description = calendar_event.description\n",
    "# obj.title = calendar_event.title"
   ]
  },
  {
   "cell_type": "code",
   "execution_count": 30,
   "metadata": {},
   "outputs": [
    {
     "name": "stdout",
     "output_type": "stream",
     "text": [
      "start_date=datetime.datetime(2023, 10, 27, 16, 0) end_date=None title='Lunch' description='After homework'\n"
     ]
    }
   ],
   "source": [
    "\n",
    "# Example Usage\n",
    "input_text = \"I have to go for a lunch after my homework at 4 pm today\"\n",
    "calendar_event = extract_calendar_event(input_text)\n",
    "print(calendar_event)\n"
   ]
  },
  {
   "cell_type": "code",
   "execution_count": 20,
   "metadata": {},
   "outputs": [
    {
     "name": "stdout",
     "output_type": "stream",
     "text": [
      "2025-03-25 10:00:00\n"
     ]
    }
   ],
   "source": [
    "from datetime import datetime\n",
    "print(calendar_event.start_date)\n"
   ]
  },
  {
   "cell_type": "markdown",
   "metadata": {},
   "source": [
    "## Agentic"
   ]
  },
  {
   "cell_type": "code",
   "execution_count": null,
   "metadata": {},
   "outputs": [
    {
     "ename": "ImportError",
     "evalue": "cannot import name 'EXCLUDED_METADATA_KEYS' from 'langgraph.checkpoint.base' (c:\\anaconda3\\envs\\gen_env\\lib\\site-packages\\langgraph\\checkpoint\\base\\__init__.py)",
     "output_type": "error",
     "traceback": [
      "\u001b[1;31m---------------------------------------------------------------------------\u001b[0m",
      "\u001b[1;31mImportError\u001b[0m                               Traceback (most recent call last)",
      "Cell \u001b[1;32mIn[92], line 1\u001b[0m\n\u001b[1;32m----> 1\u001b[0m \u001b[38;5;28;01mfrom\u001b[39;00m\u001b[38;5;250m \u001b[39m\u001b[38;5;21;01mlanggraph\u001b[39;00m\u001b[38;5;21;01m.\u001b[39;00m\u001b[38;5;21;01mgraph\u001b[39;00m\u001b[38;5;250m \u001b[39m\u001b[38;5;28;01mimport\u001b[39;00m START, END\n\u001b[0;32m      2\u001b[0m \u001b[38;5;28;01mfrom\u001b[39;00m\u001b[38;5;250m \u001b[39m\u001b[38;5;21;01mIPython\u001b[39;00m\u001b[38;5;21;01m.\u001b[39;00m\u001b[38;5;21;01mdisplay\u001b[39;00m\u001b[38;5;250m \u001b[39m\u001b[38;5;28;01mimport\u001b[39;00m Image, display\n\u001b[0;32m      3\u001b[0m \u001b[38;5;28;01mfrom\u001b[39;00m\u001b[38;5;250m \u001b[39m\u001b[38;5;21;01mlanggraph\u001b[39;00m\u001b[38;5;21;01m.\u001b[39;00m\u001b[38;5;21;01mgraph\u001b[39;00m\u001b[38;5;250m \u001b[39m\u001b[38;5;28;01mimport\u001b[39;00m MessagesState\n",
      "File \u001b[1;32mc:\\anaconda3\\envs\\gen_env\\lib\\site-packages\\langgraph\\graph\\__init__.py:1\u001b[0m\n\u001b[1;32m----> 1\u001b[0m \u001b[38;5;28;01mfrom\u001b[39;00m\u001b[38;5;250m \u001b[39m\u001b[38;5;21;01mlanggraph\u001b[39;00m\u001b[38;5;21;01m.\u001b[39;00m\u001b[38;5;21;01mgraph\u001b[39;00m\u001b[38;5;21;01m.\u001b[39;00m\u001b[38;5;21;01mgraph\u001b[39;00m\u001b[38;5;250m \u001b[39m\u001b[38;5;28;01mimport\u001b[39;00m END, START, Graph\n\u001b[0;32m      2\u001b[0m \u001b[38;5;28;01mfrom\u001b[39;00m\u001b[38;5;250m \u001b[39m\u001b[38;5;21;01mlanggraph\u001b[39;00m\u001b[38;5;21;01m.\u001b[39;00m\u001b[38;5;21;01mgraph\u001b[39;00m\u001b[38;5;21;01m.\u001b[39;00m\u001b[38;5;21;01mmessage\u001b[39;00m\u001b[38;5;250m \u001b[39m\u001b[38;5;28;01mimport\u001b[39;00m MessageGraph, MessagesState, add_messages\n\u001b[0;32m      3\u001b[0m \u001b[38;5;28;01mfrom\u001b[39;00m\u001b[38;5;250m \u001b[39m\u001b[38;5;21;01mlanggraph\u001b[39;00m\u001b[38;5;21;01m.\u001b[39;00m\u001b[38;5;21;01mgraph\u001b[39;00m\u001b[38;5;21;01m.\u001b[39;00m\u001b[38;5;21;01mstate\u001b[39;00m\u001b[38;5;250m \u001b[39m\u001b[38;5;28;01mimport\u001b[39;00m StateGraph\n",
      "File \u001b[1;32mc:\\anaconda3\\envs\\gen_env\\lib\\site-packages\\langgraph\\graph\\graph.py:34\u001b[0m\n\u001b[0;32m     24\u001b[0m \u001b[38;5;28;01mfrom\u001b[39;00m\u001b[38;5;250m \u001b[39m\u001b[38;5;21;01mlanggraph\u001b[39;00m\u001b[38;5;21;01m.\u001b[39;00m\u001b[38;5;21;01mconstants\u001b[39;00m\u001b[38;5;250m \u001b[39m\u001b[38;5;28;01mimport\u001b[39;00m (\n\u001b[0;32m     25\u001b[0m     EMPTY_SEQ,\n\u001b[0;32m     26\u001b[0m     END,\n\u001b[1;32m   (...)\u001b[0m\n\u001b[0;32m     31\u001b[0m     Send,\n\u001b[0;32m     32\u001b[0m )\n\u001b[0;32m     33\u001b[0m \u001b[38;5;28;01mfrom\u001b[39;00m\u001b[38;5;250m \u001b[39m\u001b[38;5;21;01mlanggraph\u001b[39;00m\u001b[38;5;21;01m.\u001b[39;00m\u001b[38;5;21;01mgraph\u001b[39;00m\u001b[38;5;21;01m.\u001b[39;00m\u001b[38;5;21;01mbranch\u001b[39;00m\u001b[38;5;250m \u001b[39m\u001b[38;5;28;01mimport\u001b[39;00m Branch\n\u001b[1;32m---> 34\u001b[0m \u001b[38;5;28;01mfrom\u001b[39;00m\u001b[38;5;250m \u001b[39m\u001b[38;5;21;01mlanggraph\u001b[39;00m\u001b[38;5;21;01m.\u001b[39;00m\u001b[38;5;21;01mpregel\u001b[39;00m\u001b[38;5;250m \u001b[39m\u001b[38;5;28;01mimport\u001b[39;00m Channel, Pregel\n\u001b[0;32m     35\u001b[0m \u001b[38;5;28;01mfrom\u001b[39;00m\u001b[38;5;250m \u001b[39m\u001b[38;5;21;01mlanggraph\u001b[39;00m\u001b[38;5;21;01m.\u001b[39;00m\u001b[38;5;21;01mpregel\u001b[39;00m\u001b[38;5;21;01m.\u001b[39;00m\u001b[38;5;21;01mprotocol\u001b[39;00m\u001b[38;5;250m \u001b[39m\u001b[38;5;28;01mimport\u001b[39;00m PregelProtocol\n\u001b[0;32m     36\u001b[0m \u001b[38;5;28;01mfrom\u001b[39;00m\u001b[38;5;250m \u001b[39m\u001b[38;5;21;01mlanggraph\u001b[39;00m\u001b[38;5;21;01m.\u001b[39;00m\u001b[38;5;21;01mpregel\u001b[39;00m\u001b[38;5;21;01m.\u001b[39;00m\u001b[38;5;21;01mread\u001b[39;00m\u001b[38;5;250m \u001b[39m\u001b[38;5;28;01mimport\u001b[39;00m PregelNode\n",
      "File \u001b[1;32mc:\\anaconda3\\envs\\gen_env\\lib\\site-packages\\langgraph\\pregel\\__init__.py:96\u001b[0m\n\u001b[0;32m     94\u001b[0m \u001b[38;5;28;01mfrom\u001b[39;00m\u001b[38;5;250m \u001b[39m\u001b[38;5;21;01mlanggraph\u001b[39;00m\u001b[38;5;21;01m.\u001b[39;00m\u001b[38;5;21;01mpregel\u001b[39;00m\u001b[38;5;21;01m.\u001b[39;00m\u001b[38;5;21;01mdebug\u001b[39;00m\u001b[38;5;250m \u001b[39m\u001b[38;5;28;01mimport\u001b[39;00m tasks_w_writes\n\u001b[0;32m     95\u001b[0m \u001b[38;5;28;01mfrom\u001b[39;00m\u001b[38;5;250m \u001b[39m\u001b[38;5;21;01mlanggraph\u001b[39;00m\u001b[38;5;21;01m.\u001b[39;00m\u001b[38;5;21;01mpregel\u001b[39;00m\u001b[38;5;21;01m.\u001b[39;00m\u001b[38;5;21;01mio\u001b[39;00m\u001b[38;5;250m \u001b[39m\u001b[38;5;28;01mimport\u001b[39;00m map_input, read_channels\n\u001b[1;32m---> 96\u001b[0m \u001b[38;5;28;01mfrom\u001b[39;00m\u001b[38;5;250m \u001b[39m\u001b[38;5;21;01mlanggraph\u001b[39;00m\u001b[38;5;21;01m.\u001b[39;00m\u001b[38;5;21;01mpregel\u001b[39;00m\u001b[38;5;21;01m.\u001b[39;00m\u001b[38;5;21;01mloop\u001b[39;00m\u001b[38;5;250m \u001b[39m\u001b[38;5;28;01mimport\u001b[39;00m AsyncPregelLoop, StreamProtocol, SyncPregelLoop\n\u001b[0;32m     97\u001b[0m \u001b[38;5;28;01mfrom\u001b[39;00m\u001b[38;5;250m \u001b[39m\u001b[38;5;21;01mlanggraph\u001b[39;00m\u001b[38;5;21;01m.\u001b[39;00m\u001b[38;5;21;01mpregel\u001b[39;00m\u001b[38;5;21;01m.\u001b[39;00m\u001b[38;5;21;01mmanager\u001b[39;00m\u001b[38;5;250m \u001b[39m\u001b[38;5;28;01mimport\u001b[39;00m AsyncChannelsManager, ChannelsManager\n\u001b[0;32m     98\u001b[0m \u001b[38;5;28;01mfrom\u001b[39;00m\u001b[38;5;250m \u001b[39m\u001b[38;5;21;01mlanggraph\u001b[39;00m\u001b[38;5;21;01m.\u001b[39;00m\u001b[38;5;21;01mpregel\u001b[39;00m\u001b[38;5;21;01m.\u001b[39;00m\u001b[38;5;21;01mmessages\u001b[39;00m\u001b[38;5;250m \u001b[39m\u001b[38;5;28;01mimport\u001b[39;00m StreamMessagesHandler\n",
      "File \u001b[1;32mc:\\anaconda3\\envs\\gen_env\\lib\\site-packages\\langgraph\\pregel\\loop.py:32\u001b[0m\n\u001b[0;32m     29\u001b[0m \u001b[38;5;28;01mfrom\u001b[39;00m\u001b[38;5;250m \u001b[39m\u001b[38;5;21;01mtyping_extensions\u001b[39;00m\u001b[38;5;250m \u001b[39m\u001b[38;5;28;01mimport\u001b[39;00m ParamSpec, Self\n\u001b[0;32m     31\u001b[0m \u001b[38;5;28;01mfrom\u001b[39;00m\u001b[38;5;250m \u001b[39m\u001b[38;5;21;01mlanggraph\u001b[39;00m\u001b[38;5;21;01m.\u001b[39;00m\u001b[38;5;21;01mchannels\u001b[39;00m\u001b[38;5;21;01m.\u001b[39;00m\u001b[38;5;21;01mbase\u001b[39;00m\u001b[38;5;250m \u001b[39m\u001b[38;5;28;01mimport\u001b[39;00m BaseChannel\n\u001b[1;32m---> 32\u001b[0m \u001b[38;5;28;01mfrom\u001b[39;00m\u001b[38;5;250m \u001b[39m\u001b[38;5;21;01mlanggraph\u001b[39;00m\u001b[38;5;21;01m.\u001b[39;00m\u001b[38;5;21;01mcheckpoint\u001b[39;00m\u001b[38;5;21;01m.\u001b[39;00m\u001b[38;5;21;01mbase\u001b[39;00m\u001b[38;5;250m \u001b[39m\u001b[38;5;28;01mimport\u001b[39;00m (\n\u001b[0;32m     33\u001b[0m     EXCLUDED_METADATA_KEYS,\n\u001b[0;32m     34\u001b[0m     WRITES_IDX_MAP,\n\u001b[0;32m     35\u001b[0m     BaseCheckpointSaver,\n\u001b[0;32m     36\u001b[0m     ChannelVersions,\n\u001b[0;32m     37\u001b[0m     Checkpoint,\n\u001b[0;32m     38\u001b[0m     CheckpointMetadata,\n\u001b[0;32m     39\u001b[0m     CheckpointTuple,\n\u001b[0;32m     40\u001b[0m     PendingWrite,\n\u001b[0;32m     41\u001b[0m     copy_checkpoint,\n\u001b[0;32m     42\u001b[0m )\n\u001b[0;32m     43\u001b[0m \u001b[38;5;28;01mfrom\u001b[39;00m\u001b[38;5;250m \u001b[39m\u001b[38;5;21;01mlanggraph\u001b[39;00m\u001b[38;5;21;01m.\u001b[39;00m\u001b[38;5;21;01mconstants\u001b[39;00m\u001b[38;5;250m \u001b[39m\u001b[38;5;28;01mimport\u001b[39;00m (\n\u001b[0;32m     44\u001b[0m     CONF,\n\u001b[0;32m     45\u001b[0m     CONFIG_KEY_CHECKPOINT_ID,\n\u001b[1;32m   (...)\u001b[0m\n\u001b[0;32m     65\u001b[0m     TAG_HIDDEN,\n\u001b[0;32m     66\u001b[0m )\n\u001b[0;32m     67\u001b[0m \u001b[38;5;28;01mfrom\u001b[39;00m\u001b[38;5;250m \u001b[39m\u001b[38;5;21;01mlanggraph\u001b[39;00m\u001b[38;5;21;01m.\u001b[39;00m\u001b[38;5;21;01merrors\u001b[39;00m\u001b[38;5;250m \u001b[39m\u001b[38;5;28;01mimport\u001b[39;00m (\n\u001b[0;32m     68\u001b[0m     CheckpointNotLatest,\n\u001b[0;32m     69\u001b[0m     EmptyInputError,\n\u001b[0;32m     70\u001b[0m     GraphDelegate,\n\u001b[0;32m     71\u001b[0m     GraphInterrupt,\n\u001b[0;32m     72\u001b[0m )\n",
      "\u001b[1;31mImportError\u001b[0m: cannot import name 'EXCLUDED_METADATA_KEYS' from 'langgraph.checkpoint.base' (c:\\anaconda3\\envs\\gen_env\\lib\\site-packages\\langgraph\\checkpoint\\base\\__init__.py)"
     ]
    }
   ],
   "source": [
    "from langgraph.graph import StateGraph, START, END\n",
    "from IPython.display import Image, display\n",
    "from langgraph.graph import MessagesState\n",
    "from langgraph.prebuilt import ToolNode\n",
    "from langgraph.prebuilt import tools_condition\n",
    "\n",
    "builder = StateGraph(MessagesState)\n"
   ]
  },
  {
   "cell_type": "code",
   "execution_count": null,
   "metadata": {},
   "outputs": [],
   "source": [
    "from typing_extensions import Literal, TypedDict\n",
    "class St(MessagesState):\n",
    "    workflow : Literal[\"create_event\", \"read_event\"]\n",
    "    prompt : str\n",
    "    "
   ]
  },
  {
   "cell_type": "code",
   "execution_count": null,
   "metadata": {},
   "outputs": [],
   "source": [
    "ROUTER_PROMPT = \"\"\"\n",
    "You are an AI converstaional assistant and you are responsible to make descisions on what action to perform with the user's calender.\n",
    "You have to take into account the whole conversation so far to make a decision to determine what would be the best next response.\n",
    "GENERAL RULES:\n",
    "1. Always consider the whole conversation before you make a decision.\n",
    "2. Only return one of these outputs - 'create_event', 'read_event'.\n",
    "\n",
    "IMPORTANT RULES FOR CREATING AN EVENT:\n",
    "1. ONLY create an when there is an EXPLICIT request by the user to add a task or event.\n",
    "2. DO NOT create events for general messages and descriptions.\n",
    "3. There should be an intent of the user to create a new task in his calender. \n",
    "\n",
    "IMPORTANT RULES FOR READING EVENTS:\n",
    "1. Only read an event if there is an explicit request by the user to know about the events.\n",
    "2. Only read an event if the user wants to know about his calender.ipynb\n",
    "3. Only read an event if the user wants to know about his pending or future tasks.\n",
    "\n",
    "\n",
    "The output must be one of:\n",
    "1. 'create_event' - only when the intent for the user is to create a new event in his calender\n",
    "2. 'read_event' - only when there is an intent of the user to know about his tasks and events.\n",
    "\n",
    "\n",
    "\n",
    "\"\"\""
   ]
  },
  {
   "cell_type": "code",
   "execution_count": 6,
   "metadata": {},
   "outputs": [],
   "source": [
    "from pydantic import BaseModel, Field\n",
    "# from typing_extensions import Field\n",
    "class RouterResponse(BaseModel):\n",
    "    response_type: str = Field(description=\"The response type to give to the user. It must be one of: 'create_event' or 'read_event'\")\n"
   ]
  },
  {
   "cell_type": "code",
   "execution_count": 10,
   "metadata": {},
   "outputs": [],
   "source": [
    "from langchain_core.prompts import ChatPromptTemplate , MessagesPlaceholder\n",
    "\n",
    "def get_router_chain():\n",
    "    model = ChatGroq( api_key=API, model=\"gemma2-9b-it\").with_structured_output(RouterResponse)\n",
    "\n",
    "    prompt = ChatPromptTemplate.from_messages(\n",
    "        [(\"system\", ROUTER_PROMPT), MessagesPlaceholder(variable_name=\"messages\")]\n",
    "    )\n",
    "\n",
    "    return prompt | model"
   ]
  },
  {
   "cell_type": "code",
   "execution_count": 11,
   "metadata": {},
   "outputs": [],
   "source": [
    "chain = get_router_chain()\n"
   ]
  },
  {
   "cell_type": "code",
   "execution_count": 12,
   "metadata": {},
   "outputs": [
    {
     "data": {
      "text/plain": [
       "RouterResponse(response_type='create_event')"
      ]
     },
     "execution_count": 12,
     "metadata": {},
     "output_type": "execute_result"
    }
   ],
   "source": [
    "chain.invoke({'messages': [\"i have a task to complete my homework today by 4 pm\"]})\n"
   ]
  },
  {
   "cell_type": "code",
   "execution_count": 46,
   "metadata": {},
   "outputs": [
    {
     "data": {
      "text/plain": [
       "RouterResponse(response_type='read_event')"
      ]
     },
     "execution_count": 46,
     "metadata": {},
     "output_type": "execute_result"
    }
   ],
   "source": [
    "chain.invoke({'messages': [\"what are the left over tasks that I have\"]})\n"
   ]
  },
  {
   "cell_type": "code",
   "execution_count": 56,
   "metadata": {},
   "outputs": [
    {
     "data": {
      "text/plain": [
       "RouterResponse(response_type='read_event')"
      ]
     },
     "execution_count": 56,
     "metadata": {},
     "output_type": "execute_result"
    }
   ],
   "source": [
    "chain.invoke({'messages': [\"If I have a task to be done by 4pm today and I do it now how many task will be left for today\"]})\n"
   ]
  },
  {
   "cell_type": "markdown",
   "metadata": {},
   "source": [
    "## Nodes creation"
   ]
  },
  {
   "cell_type": "code",
   "execution_count": null,
   "metadata": {},
   "outputs": [],
   "source": [
    "def router_node(state: St):\n",
    "    chain = get_router_chain()\n",
    "    resp =  chain.invoke(\n",
    "        {\"messages\": state['messages']}\n",
    "    )\n",
    "    return {\"workflow\": resp.response_type}\n"
   ]
  },
  {
   "cell_type": "code",
   "execution_count": 16,
   "metadata": {},
   "outputs": [],
   "source": [
    "def select_workflow(\n",
    "    state: St,\n",
    ") -> Literal[\"create_event_node\", \"read_event_node\"]:\n",
    "    workflow = state[\"workflow\"]\n",
    "\n",
    "    if workflow == \"create_event\":\n",
    "        return \"create_event_node\"\n",
    "\n",
    "    elif workflow == \"read_event\":\n",
    "        return \"read_event_node\"\n"
   ]
  },
  {
   "cell_type": "code",
   "execution_count": null,
   "metadata": {},
   "outputs": [],
   "source": [
    "from langchain_google_community.calendar.create_event import CalendarCreateEvent\n",
    "\n",
    "def create_event_node():\n",
    "    tool = CalendarCreateEvent()\n",
    "    tool.invoke(\n",
    "        {\n",
    "            \"summary\": \"Calculus exam\",\n",
    "            \"start_datetime\": \"2025-07-11 11:00:00\",\n",
    "            \"end_datetime\": \"2025-07-11 13:00:00\",\n",
    "            \"timezone\": \"America/Mexico_City\",\n",
    "            \"location\": \"UAM Cuajimalpa\",\n",
    "            \"description\": \"Event created from the LangChain toolkit\",\n",
    "            \"reminders\": [{\"method\": \"popup\", \"minutes\": 60}],\n",
    "            \"conference_data\": True,\n",
    "            \"color_id\": \"5\",\n",
    "        }\n",
    "    )"
   ]
  },
  {
   "cell_type": "code",
   "execution_count": 19,
   "metadata": {},
   "outputs": [],
   "source": [
    "def read_event_node():\n",
    "    pass"
   ]
  },
  {
   "cell_type": "code",
   "execution_count": null,
   "metadata": {},
   "outputs": [],
   "source": []
  },
  {
   "cell_type": "code",
   "execution_count": null,
   "metadata": {},
   "outputs": [],
   "source": []
  },
  {
   "cell_type": "code",
   "execution_count": null,
   "metadata": {},
   "outputs": [],
   "source": []
  },
  {
   "cell_type": "code",
   "execution_count": null,
   "metadata": {},
   "outputs": [],
   "source": []
  },
  {
   "cell_type": "code",
   "execution_count": null,
   "metadata": {},
   "outputs": [],
   "source": []
  },
  {
   "cell_type": "code",
   "execution_count": null,
   "metadata": {},
   "outputs": [],
   "source": []
  },
  {
   "cell_type": "code",
   "execution_count": null,
   "metadata": {},
   "outputs": [],
   "source": []
  },
  {
   "cell_type": "markdown",
   "metadata": {},
   "source": [
    "# final graph"
   ]
  },
  {
   "cell_type": "code",
   "execution_count": null,
   "metadata": {},
   "outputs": [],
   "source": [
    "from langgraph.graph import StateGraph, START, END\n",
    "from IPython.display import Image, display\n",
    "from langgraph.graph import MessagesState\n",
    "from langgraph.prebuilt import ToolNode\n",
    "from langgraph.prebuilt import tools_condition\n",
    "\n",
    "builder = StateGraph(St)"
   ]
  },
  {
   "cell_type": "code",
   "execution_count": null,
   "metadata": {},
   "outputs": [],
   "source": [
    "builder.add_node(\"select_workflow\", select_workflow)\n",
    "builder.add_node(\"router_node\", router_node)\n"
   ]
  },
  {
   "cell_type": "code",
   "execution_count": null,
   "metadata": {},
   "outputs": [
    {
     "ename": "NameError",
     "evalue": "name 'builder' is not defined",
     "output_type": "error",
     "traceback": [
      "\u001b[1;31m---------------------------------------------------------------------------\u001b[0m",
      "\u001b[1;31mNameError\u001b[0m                                 Traceback (most recent call last)",
      "Cell \u001b[1;32mIn[1], line 1\u001b[0m\n\u001b[1;32m----> 1\u001b[0m \u001b[43mbuilder\u001b[49m\u001b[38;5;241m.\u001b[39madd_node(\u001b[38;5;124m\"\u001b[39m\u001b[38;5;124mselect_workflow\u001b[39m\u001b[38;5;124m\"\u001b[39m, select_workflow)\n",
      "\u001b[1;31mNameError\u001b[0m: name 'builder' is not defined"
     ]
    }
   ],
   "source": [
    "builder.add_node(\"select_workflow\", select_workflow)\n",
    "builder.add_node(\"create_event_node\", create_event_node)\n",
    "builder.add_node(\"read_event_node\", read_event_node)\n"
   ]
  },
  {
   "cell_type": "code",
   "execution_count": null,
   "metadata": {},
   "outputs": [],
   "source": [
    "builder.add_edge(START, \"router\")\n",
    "builder.add_edge(\"router\", \"select_workflow\")\n",
    "\n"
   ]
  },
  {
   "cell_type": "code",
   "execution_count": null,
   "metadata": {},
   "outputs": [],
   "source": []
  },
  {
   "cell_type": "code",
   "execution_count": null,
   "metadata": {},
   "outputs": [
    {
     "name": "stdout",
     "output_type": "stream",
     "text": [
      "Please visit this URL to authorize this application: https://accounts.google.com/o/oauth2/auth?response_type=code&client_id=721544656291-uco52pd0ibg5qa67np64gsnrpfff5o5n.apps.googleusercontent.com&redirect_uri=http%3A%2F%2Flocalhost%3A52754%2F&scope=https%3A%2F%2Fwww.googleapis.com%2Fauth%2Fcalendar&state=aIf3X7arF5wIfF8CSpVf3luooA4wos&access_type=offline\n"
     ]
    },
    {
     "data": {
      "text/plain": [
       "'Event created: https://www.google.com/calendar/event?eid=MGRocWNzbmxjdmZhZjQxdHRwdHFtamZpNTggbWVodGFrdXNoYWFncmFAbQ'"
      ]
     },
     "execution_count": 2,
     "metadata": {},
     "output_type": "execute_result"
    }
   ],
   "source": [
    "from langchain_google_community.calendar.create_event import CalendarCreateEvent\n",
    "\n",
    "tool = CalendarCreateEvent()\n",
    "tool.invoke(\n",
    "    {\n",
    "        \"summary\": \"Calculus exam\",\n",
    "        \"start_datetime\": \"2025-07-11 11:00:00\",\n",
    "        \"end_datetime\": \"2025-07-11 13:00:00\",\n",
    "        \"timezone\": \"America/Mexico_City\",\n",
    "        \"location\": \"UAM Cuajimalpa\",\n",
    "        \"description\": \"Event created from the LangChain toolkit\",\n",
    "        \"reminders\": [{\"method\": \"popup\", \"minutes\": 60}],\n",
    "        \"conference_data\": True,\n",
    "        \"color_id\": \"5\",\n",
    "    }\n",
    ")"
   ]
  },
  {
   "cell_type": "code",
   "execution_count": 42,
   "metadata": {},
   "outputs": [
    {
     "name": "stdout",
     "output_type": "stream",
     "text": [
      "2025-03-25 10:00:00\n"
     ]
    },
    {
     "ename": "AttributeError",
     "evalue": "module 'datetime' has no attribute 'now'",
     "output_type": "error",
     "traceback": [
      "\u001b[1;31m---------------------------------------------------------------------------\u001b[0m",
      "\u001b[1;31mAttributeError\u001b[0m                            Traceback (most recent call last)",
      "Cell \u001b[1;32mIn[42], line 4\u001b[0m\n\u001b[0;32m      1\u001b[0m \u001b[38;5;28;01mimport\u001b[39;00m\u001b[38;5;250m \u001b[39m\u001b[38;5;21;01mdatetime\u001b[39;00m\n\u001b[0;32m      3\u001b[0m \u001b[38;5;28mprint\u001b[39m(calendar_event\u001b[38;5;241m.\u001b[39mstart_date)\n\u001b[1;32m----> 4\u001b[0m \u001b[43mdatetime\u001b[49m\u001b[38;5;241;43m.\u001b[39;49m\u001b[43mnow\u001b[49m(local\u001b[38;5;241m=\u001b[39m\u001b[38;5;28;01mTrue\u001b[39;00m)\n",
      "\u001b[1;31mAttributeError\u001b[0m: module 'datetime' has no attribute 'now'"
     ]
    }
   ],
   "source": [
    "import datetime\n",
    "\n",
    "print(calendar_event.start_date)\n",
    "datetime.now(local=True)\n"
   ]
  },
  {
   "cell_type": "code",
   "execution_count": 54,
   "metadata": {},
   "outputs": [
    {
     "ename": "FileNotFoundError",
     "evalue": "[Errno 2] No such file or directory: 'credentials.json'",
     "output_type": "error",
     "traceback": [
      "\u001b[1;31m---------------------------------------------------------------------------\u001b[0m",
      "\u001b[1;31mFileNotFoundError\u001b[0m                         Traceback (most recent call last)",
      "Cell \u001b[1;32mIn[54], line 4\u001b[0m\n\u001b[0;32m      1\u001b[0m \u001b[38;5;28;01mfrom\u001b[39;00m\u001b[38;5;250m \u001b[39m\u001b[38;5;21;01mlangchain_google_community\u001b[39;00m\u001b[38;5;21;01m.\u001b[39;00m\u001b[38;5;21;01mcalendar\u001b[39;00m\u001b[38;5;21;01m.\u001b[39;00m\u001b[38;5;21;01mget_calendars_info\u001b[39;00m\u001b[38;5;250m \u001b[39m\u001b[38;5;28;01mimport\u001b[39;00m GetCalendarsInfo\n\u001b[0;32m      3\u001b[0m \u001b[38;5;66;03m# Initialize the GetCalendarsInfo object\u001b[39;00m\n\u001b[1;32m----> 4\u001b[0m get_calendars_info \u001b[38;5;241m=\u001b[39m \u001b[43mGetCalendarsInfo\u001b[49m\u001b[43m(\u001b[49m\u001b[43m)\u001b[49m\n\u001b[0;32m      6\u001b[0m \u001b[38;5;66;03m# Example of what the tool_input might look like (this depends on the tool's implementation)\u001b[39;00m\n\u001b[0;32m      7\u001b[0m \u001b[38;5;66;03m# In this case, it could be an object like credentials or user-specific info.\u001b[39;00m\n\u001b[0;32m      8\u001b[0m tool_input \u001b[38;5;241m=\u001b[39m {}\n",
      "File \u001b[1;32mc:\\anaconda3\\envs\\gen_env\\lib\\site-packages\\langchain_core\\tools\\base.py:443\u001b[0m, in \u001b[0;36mBaseTool.__init__\u001b[1;34m(self, **kwargs)\u001b[0m\n\u001b[0;32m    438\u001b[0m     msg \u001b[38;5;241m=\u001b[39m (\n\u001b[0;32m    439\u001b[0m         \u001b[38;5;124m\"\u001b[39m\u001b[38;5;124margs_schema must be a subclass of pydantic BaseModel or \u001b[39m\u001b[38;5;124m\"\u001b[39m\n\u001b[0;32m    440\u001b[0m         \u001b[38;5;124mf\u001b[39m\u001b[38;5;124m\"\u001b[39m\u001b[38;5;124ma JSON schema dict. Got: \u001b[39m\u001b[38;5;132;01m{\u001b[39;00mkwargs[\u001b[38;5;124m'\u001b[39m\u001b[38;5;124margs_schema\u001b[39m\u001b[38;5;124m'\u001b[39m]\u001b[38;5;132;01m}\u001b[39;00m\u001b[38;5;124m.\u001b[39m\u001b[38;5;124m\"\u001b[39m\n\u001b[0;32m    441\u001b[0m     )\n\u001b[0;32m    442\u001b[0m     \u001b[38;5;28;01mraise\u001b[39;00m \u001b[38;5;167;01mTypeError\u001b[39;00m(msg)\n\u001b[1;32m--> 443\u001b[0m \u001b[38;5;28msuper\u001b[39m()\u001b[38;5;241m.\u001b[39m\u001b[38;5;21m__init__\u001b[39m(\u001b[38;5;241m*\u001b[39m\u001b[38;5;241m*\u001b[39mkwargs)\n",
      "File \u001b[1;32mc:\\anaconda3\\envs\\gen_env\\lib\\site-packages\\langchain_core\\load\\serializable.py:130\u001b[0m, in \u001b[0;36mSerializable.__init__\u001b[1;34m(self, *args, **kwargs)\u001b[0m\n\u001b[0;32m    128\u001b[0m \u001b[38;5;28;01mdef\u001b[39;00m\u001b[38;5;250m \u001b[39m\u001b[38;5;21m__init__\u001b[39m(\u001b[38;5;28mself\u001b[39m, \u001b[38;5;241m*\u001b[39margs: Any, \u001b[38;5;241m*\u001b[39m\u001b[38;5;241m*\u001b[39mkwargs: Any) \u001b[38;5;241m-\u001b[39m\u001b[38;5;241m>\u001b[39m \u001b[38;5;28;01mNone\u001b[39;00m:\n\u001b[0;32m    129\u001b[0m \u001b[38;5;250m    \u001b[39m\u001b[38;5;124;03m\"\"\"\"\"\"\u001b[39;00m  \u001b[38;5;66;03m# noqa: D419\u001b[39;00m\n\u001b[1;32m--> 130\u001b[0m     \u001b[38;5;28msuper\u001b[39m()\u001b[38;5;241m.\u001b[39m\u001b[38;5;21m__init__\u001b[39m(\u001b[38;5;241m*\u001b[39margs, \u001b[38;5;241m*\u001b[39m\u001b[38;5;241m*\u001b[39mkwargs)\n",
      "    \u001b[1;31m[... skipping hidden 1 frame]\u001b[0m\n",
      "File \u001b[1;32mc:\\anaconda3\\envs\\gen_env\\lib\\site-packages\\langchain_google_community\\calendar\\utils.py:106\u001b[0m, in \u001b[0;36mbuild_resource_service\u001b[1;34m(credentials, service_name, service_version)\u001b[0m\n\u001b[0;32m    100\u001b[0m \u001b[38;5;28;01mdef\u001b[39;00m\u001b[38;5;250m \u001b[39m\u001b[38;5;21mbuild_resource_service\u001b[39m(\n\u001b[0;32m    101\u001b[0m     credentials: Optional[Credentials] \u001b[38;5;241m=\u001b[39m \u001b[38;5;28;01mNone\u001b[39;00m,\n\u001b[0;32m    102\u001b[0m     service_name: \u001b[38;5;28mstr\u001b[39m \u001b[38;5;241m=\u001b[39m \u001b[38;5;124m\"\u001b[39m\u001b[38;5;124mcalendar\u001b[39m\u001b[38;5;124m\"\u001b[39m,\n\u001b[0;32m    103\u001b[0m     service_version: \u001b[38;5;28mstr\u001b[39m \u001b[38;5;241m=\u001b[39m \u001b[38;5;124m\"\u001b[39m\u001b[38;5;124mv3\u001b[39m\u001b[38;5;124m\"\u001b[39m,\n\u001b[0;32m    104\u001b[0m ) \u001b[38;5;241m-\u001b[39m\u001b[38;5;241m>\u001b[39m Resource:\n\u001b[0;32m    105\u001b[0m \u001b[38;5;250m    \u001b[39m\u001b[38;5;124;03m\"\"\"Build a Google Calendar service.\"\"\"\u001b[39;00m\n\u001b[1;32m--> 106\u001b[0m     credentials \u001b[38;5;241m=\u001b[39m credentials \u001b[38;5;129;01mor\u001b[39;00m \u001b[43mget_google_credentials\u001b[49m\u001b[43m(\u001b[49m\u001b[43m)\u001b[49m\n\u001b[0;32m    107\u001b[0m     builder \u001b[38;5;241m=\u001b[39m import_googleapiclient_resource_builder()\n\u001b[0;32m    108\u001b[0m     \u001b[38;5;28;01mreturn\u001b[39;00m builder(service_name, service_version, credentials\u001b[38;5;241m=\u001b[39mcredentials)\n",
      "File \u001b[1;32mc:\\anaconda3\\envs\\gen_env\\lib\\site-packages\\langchain_google_community\\calendar\\utils.py:90\u001b[0m, in \u001b[0;36mget_google_credentials\u001b[1;34m(token_file, client_secrets_file, scopes)\u001b[0m\n\u001b[0;32m     87\u001b[0m     creds\u001b[38;5;241m.\u001b[39mrefresh(Request())  \u001b[38;5;66;03m# type: ignore[call-arg]\u001b[39;00m\n\u001b[0;32m     88\u001b[0m \u001b[38;5;28;01melse\u001b[39;00m:\n\u001b[0;32m     89\u001b[0m     \u001b[38;5;66;03m# https://developers.google.com/calendar/api/quickstart/python#authorize_credentials_for_a_desktop_application # noqa\u001b[39;00m\n\u001b[1;32m---> 90\u001b[0m     flow \u001b[38;5;241m=\u001b[39m \u001b[43mInstalledAppFlow\u001b[49m\u001b[38;5;241;43m.\u001b[39;49m\u001b[43mfrom_client_secrets_file\u001b[49m\u001b[43m(\u001b[49m\n\u001b[0;32m     91\u001b[0m \u001b[43m        \u001b[49m\u001b[43mclient_secrets_file\u001b[49m\u001b[43m,\u001b[49m\u001b[43m \u001b[49m\u001b[43mscopes\u001b[49m\n\u001b[0;32m     92\u001b[0m \u001b[43m    \u001b[49m\u001b[43m)\u001b[49m\n\u001b[0;32m     93\u001b[0m     creds \u001b[38;5;241m=\u001b[39m flow\u001b[38;5;241m.\u001b[39mrun_local_server(port\u001b[38;5;241m=\u001b[39m\u001b[38;5;241m0\u001b[39m)\n\u001b[0;32m     94\u001b[0m \u001b[38;5;66;03m# Save the credentials for the next run\u001b[39;00m\n",
      "File \u001b[1;32mc:\\anaconda3\\envs\\gen_env\\lib\\site-packages\\google_auth_oauthlib\\flow.py:198\u001b[0m, in \u001b[0;36mFlow.from_client_secrets_file\u001b[1;34m(cls, client_secrets_file, scopes, **kwargs)\u001b[0m\n\u001b[0;32m    183\u001b[0m \u001b[38;5;129m@classmethod\u001b[39m\n\u001b[0;32m    184\u001b[0m \u001b[38;5;28;01mdef\u001b[39;00m\u001b[38;5;250m \u001b[39m\u001b[38;5;21mfrom_client_secrets_file\u001b[39m(\u001b[38;5;28mcls\u001b[39m, client_secrets_file, scopes, \u001b[38;5;241m*\u001b[39m\u001b[38;5;241m*\u001b[39mkwargs):\n\u001b[0;32m    185\u001b[0m \u001b[38;5;250m    \u001b[39m\u001b[38;5;124;03m\"\"\"Creates a :class:`Flow` instance from a Google client secrets file.\u001b[39;00m\n\u001b[0;32m    186\u001b[0m \n\u001b[0;32m    187\u001b[0m \u001b[38;5;124;03m    Args:\u001b[39;00m\n\u001b[1;32m   (...)\u001b[0m\n\u001b[0;32m    196\u001b[0m \u001b[38;5;124;03m        Flow: The constructed Flow instance.\u001b[39;00m\n\u001b[0;32m    197\u001b[0m \u001b[38;5;124;03m    \"\"\"\u001b[39;00m\n\u001b[1;32m--> 198\u001b[0m     \u001b[38;5;28;01mwith\u001b[39;00m \u001b[38;5;28;43mopen\u001b[39;49m\u001b[43m(\u001b[49m\u001b[43mclient_secrets_file\u001b[49m\u001b[43m,\u001b[49m\u001b[43m \u001b[49m\u001b[38;5;124;43m\"\u001b[39;49m\u001b[38;5;124;43mr\u001b[39;49m\u001b[38;5;124;43m\"\u001b[39;49m\u001b[43m)\u001b[49m \u001b[38;5;28;01mas\u001b[39;00m json_file:\n\u001b[0;32m    199\u001b[0m         client_config \u001b[38;5;241m=\u001b[39m json\u001b[38;5;241m.\u001b[39mload(json_file)\n\u001b[0;32m    201\u001b[0m     \u001b[38;5;28;01mreturn\u001b[39;00m \u001b[38;5;28mcls\u001b[39m\u001b[38;5;241m.\u001b[39mfrom_client_config(client_config, scopes\u001b[38;5;241m=\u001b[39mscopes, \u001b[38;5;241m*\u001b[39m\u001b[38;5;241m*\u001b[39mkwargs)\n",
      "\u001b[1;31mFileNotFoundError\u001b[0m: [Errno 2] No such file or directory: 'credentials.json'"
     ]
    }
   ],
   "source": [
    "from langchain_google_community.calendar.get_calendars_info import GetCalendarsInfo\n",
    "\n",
    "# Initialize the GetCalendarsInfo object\n",
    "get_calendars_info = GetCalendarsInfo()\n",
    "\n",
    "# Example of what the tool_input might look like (this depends on the tool's implementation)\n",
    "# In this case, it could be an object like credentials or user-specific info.\n",
    "tool_input = {}\n",
    "\n",
    "# Fetch calendar info, passing tool_input as a required argument\n",
    "calendars = get_calendars_info.run(tool_input)\n",
    "\n",
    "# Display the calendars info\n",
    "# for calendar in calendars:\n",
    "#     print(calendar)\n",
    "print(calendars)\n"
   ]
  },
  {
   "cell_type": "code",
   "execution_count": 53,
   "metadata": {},
   "outputs": [
    {
     "name": "stdout",
     "output_type": "stream",
     "text": [
      "[{\"id\": \"mehtakushaagra@gmail.com\", \"summary\": \"mehtakushaagra@gmail.com\", \"timeZone\": \"Asia/Kolkata\"}, {\"id\": \"classroom103106523056071358682@group.calendar.google.com\", \"summary\": \"CSE-B BASIC ELECTRICAL AND ELECTRONICS ENGINEERING\", \"timeZone\": \"UTC\"}, {\"id\": \"classroom116947381688849148008@group.calendar.google.com\", \"summary\": \"CSE- (AIML) Section-B Section-B\", \"timeZone\": \"UTC\"}, {\"id\": \"classroom110977993322683238737@group.calendar.google.com\", \"summary\": \"CSE-(AIML)-B B\", \"timeZone\": \"UTC\"}, {\"id\": \"classroom106680339530374295906@group.calendar.google.com\", \"summary\": \"CSE-AIML (EGD) Sec- B\", \"timeZone\": \"UTC\"}, {\"id\": \"classroom105052323965966063530@group.calendar.google.com\", \"summary\": \"CSE AIML B B\", \"timeZone\": \"UTC\"}, {\"id\": \"classroom116950500052228117542@group.calendar.google.com\", \"summary\": \"CSE- AIML SEC-B\", \"timeZone\": \"UTC\"}]\n"
     ]
    }
   ],
   "source": [
    "print(calendars)"
   ]
  },
  {
   "cell_type": "code",
   "execution_count": null,
   "metadata": {},
   "outputs": [],
   "source": []
  },
  {
   "cell_type": "code",
   "execution_count": null,
   "metadata": {},
   "outputs": [],
   "source": []
  },
  {
   "cell_type": "code",
   "execution_count": 55,
   "metadata": {},
   "outputs": [
    {
     "ename": "ImportError",
     "evalue": "cannot import name 'Graph' from 'langgraph' (unknown location)",
     "output_type": "error",
     "traceback": [
      "\u001b[1;31m---------------------------------------------------------------------------\u001b[0m",
      "\u001b[1;31mImportError\u001b[0m                               Traceback (most recent call last)",
      "Cell \u001b[1;32mIn[55], line 82\u001b[0m\n\u001b[0;32m     74\u001b[0m read_events_tool \u001b[38;5;241m=\u001b[39m Tool\u001b[38;5;241m.\u001b[39mfrom_function(\n\u001b[0;32m     75\u001b[0m     func\u001b[38;5;241m=\u001b[39mread_events,\n\u001b[0;32m     76\u001b[0m     name\u001b[38;5;241m=\u001b[39m\u001b[38;5;124m\"\u001b[39m\u001b[38;5;124mRead Events\u001b[39m\u001b[38;5;124m\"\u001b[39m,\n\u001b[0;32m     77\u001b[0m     description\u001b[38;5;241m=\u001b[39m\u001b[38;5;124m\"\u001b[39m\u001b[38;5;124mFetches the upcoming events from the Google Calendar.\u001b[39m\u001b[38;5;124m\"\u001b[39m\n\u001b[0;32m     78\u001b[0m )\n\u001b[0;32m     80\u001b[0m \u001b[38;5;66;03m# Create the Graph structure using LangGraph\u001b[39;00m\n\u001b[1;32m---> 82\u001b[0m \u001b[38;5;28;01mfrom\u001b[39;00m\u001b[38;5;250m \u001b[39m\u001b[38;5;21;01mlanggraph\u001b[39;00m\u001b[38;5;250m \u001b[39m\u001b[38;5;28;01mimport\u001b[39;00m Graph, Node\n\u001b[0;32m     84\u001b[0m \u001b[38;5;66;03m# Create a custom graph node that checks whether the user wants to read or create events\u001b[39;00m\n\u001b[0;32m     85\u001b[0m \u001b[38;5;28;01mdef\u001b[39;00m\u001b[38;5;250m \u001b[39m\u001b[38;5;21mmain_node\u001b[39m(action, event_details\u001b[38;5;241m=\u001b[39m\u001b[38;5;28;01mNone\u001b[39;00m):\n",
      "\u001b[1;31mImportError\u001b[0m: cannot import name 'Graph' from 'langgraph' (unknown location)"
     ]
    }
   ],
   "source": [
    "from langchain.agents import initialize_agent, AgentType\n",
    "from langchain.tools import Tool\n",
    "from langchain.prompts import PromptTemplate\n",
    "from google_auth_oauthlib.flow import InstalledAppFlow\n",
    "from googleapiclient.discovery import build\n",
    "import os\n",
    "import pickle\n",
    "from google.auth.transport.requests import Request\n",
    "\n",
    "# SCOPES for Google Calendar API\n",
    "SCOPES = ['https://www.googleapis.com/auth/calendar']\n",
    "\n",
    "def verify_credentials():\n",
    "    \"\"\"Verify and authenticate the user's Google credentials.\"\"\"\n",
    "    creds = None\n",
    "    if os.path.exists('token.pickle'):\n",
    "        with open('token.pickle', 'rb') as token:\n",
    "            creds = pickle.load(token)\n",
    "\n",
    "    if not creds or not creds.valid:\n",
    "        if creds and creds.expired and creds.refresh_token:\n",
    "            creds.refresh(Request())\n",
    "        else:\n",
    "            flow = InstalledAppFlow.from_client_secrets_file(\n",
    "                'credentials.json', SCOPES)\n",
    "            creds = flow.run_local_server(port=0)\n",
    "\n",
    "        with open('token.pickle', 'wb') as token:\n",
    "            pickle.dump(creds, token)\n",
    "\n",
    "    return creds\n",
    "\n",
    "def create_event(event_details):\n",
    "    \"\"\"Create an event in the Google Calendar.\"\"\"\n",
    "    creds = verify_credentials()\n",
    "    service = build('calendar', 'v3', credentials=creds)\n",
    "    event = {\n",
    "        'summary': event_details['summary'],\n",
    "        'location': event_details.get('location', ''),\n",
    "        'description': event_details.get('description', ''),\n",
    "        'start': {\n",
    "            'dateTime': event_details['start_datetime'],\n",
    "            'timeZone': event_details.get('time_zone', 'UTC'),\n",
    "        },\n",
    "        'end': {\n",
    "            'dateTime': event_details['end_datetime'],\n",
    "            'timeZone': event_details.get('time_zone', 'UTC'),\n",
    "        },\n",
    "        'attendees': event_details.get('attendees', []),\n",
    "        'reminders': {\n",
    "            'useDefault': True,\n",
    "        },\n",
    "    }\n",
    "\n",
    "    event = service.events().insert(calendarId='primary', body=event).execute()\n",
    "    return event\n",
    "\n",
    "def read_events():\n",
    "    \"\"\"Read scheduled events from the Google Calendar.\"\"\"\n",
    "    creds = verify_credentials()\n",
    "    service = build('calendar', 'v3', credentials=creds)\n",
    "    events_result = service.events().list(calendarId='primary', maxResults=10, singleEvents=True, orderBy='startTime').execute()\n",
    "    events = events_result.get('items', [])\n",
    "    return events\n",
    "\n",
    "# Define the tools for LangGraph\n",
    "\n",
    "create_event_tool = Tool.from_function(\n",
    "    func=create_event,\n",
    "    name=\"Create Event\",\n",
    "    description=\"Creates an event in Google Calendar with specified details.\"\n",
    ")\n",
    "\n",
    "read_events_tool = Tool.from_function(\n",
    "    func=read_events,\n",
    "    name=\"Read Events\",\n",
    "    description=\"Fetches the upcoming events from the Google Calendar.\"\n",
    ")\n",
    "\n",
    "# Create the Graph structure using LangGraph\n",
    "\n",
    "from langgraph import Graph, Node\n",
    "\n",
    "# Create a custom graph node that checks whether the user wants to read or create events\n",
    "def main_node(action, event_details=None):\n",
    "    \"\"\"Decides whether to create an event or read events.\"\"\"\n",
    "    if action == 'create':\n",
    "        return create_event_tool.invoke(event_details)\n",
    "    elif action == 'read':\n",
    "        return read_events_tool.invoke()\n",
    "    else:\n",
    "        return \"Invalid action. Choose 'create' or 'read'.\"\n",
    "\n",
    "# Define the LangGraph\n",
    "graph = Graph()\n",
    "\n",
    "# Node for deciding based on action (create or read)\n",
    "node = Node(main_node, name=\"Action Node\")\n",
    "\n",
    "# Link nodes together (for simplicity, just define them in a simple sequential flow)\n",
    "graph.add_node(node)\n",
    "\n",
    "# Function to run the LangGraph agent\n",
    "def run_langgraph(action, event_details=None):\n",
    "    response = graph.run(action, event_details)\n",
    "    return response\n",
    "\n",
    "# Example Usage:\n",
    "event_details = {\n",
    "    'summary': 'Team Meeting',\n",
    "    'start_datetime': '2025-04-18T10:00:00',\n",
    "    'end_datetime': '2025-04-18T11:00:00',\n",
    "}\n",
    "\n",
    "# Decide to either create or read events based on user input\n",
    "action = 'create'  # Or 'read'\n",
    "result = run_langgraph(action, event_details)  # Pass event details if creating\n",
    "print(result)\n"
   ]
  },
  {
   "cell_type": "code",
   "execution_count": 56,
   "metadata": {},
   "outputs": [],
   "source": [
    "from langchain.tools import Tool\n",
    "from google_auth_oauthlib.flow import InstalledAppFlow\n",
    "from googleapiclient.discovery import build\n",
    "import os\n",
    "import pickle\n",
    "from google.auth.transport.requests import Request\n",
    "\n",
    "SCOPES = ['https://www.googleapis.com/auth/calendar']\n",
    "\n",
    "def verify_credentials():\n",
    "    creds = None\n",
    "    if os.path.exists('token.pickle'):\n",
    "        with open('token.pickle', 'rb') as token:\n",
    "            creds = pickle.load(token)\n",
    "\n",
    "    if not creds or not creds.valid:\n",
    "        if creds and creds.expired and creds.refresh_token:\n",
    "            creds.refresh(Request())\n",
    "        else:\n",
    "            flow = InstalledAppFlow.from_client_secrets_file(\n",
    "                'credentials.json', SCOPES)\n",
    "            creds = flow.run_local_server(port=0)\n",
    "\n",
    "        with open('token.pickle', 'wb') as token:\n",
    "            pickle.dump(creds, token)\n",
    "\n",
    "    return creds\n",
    "\n",
    "def create_event(event_details):\n",
    "    creds = verify_credentials()\n",
    "    service = build('calendar', 'v3', credentials=creds)\n",
    "    event = {\n",
    "        'summary': event_details['summary'],\n",
    "        'location': event_details.get('location', ''),\n",
    "        'description': event_details.get('description', ''),\n",
    "        'start': {\n",
    "            'dateTime': event_details['start_datetime'],\n",
    "            'timeZone': event_details.get('time_zone', 'UTC'),\n",
    "        },\n",
    "        'end': {\n",
    "            'dateTime': event_details['end_datetime'],\n",
    "            'timeZone': event_details.get('time_zone', 'UTC'),\n",
    "        },\n",
    "        'attendees': event_details.get('attendees', []),\n",
    "        'reminders': {\n",
    "            'useDefault': True,\n",
    "        },\n",
    "    }\n",
    "\n",
    "    event = service.events().insert(calendarId='primary', body=event).execute()\n",
    "    return event\n",
    "\n",
    "def read_events():\n",
    "    creds = verify_credentials()\n",
    "    service = build('calendar', 'v3', credentials=creds)\n",
    "    events_result = service.events().list(calendarId='primary', maxResults=10, singleEvents=True, orderBy='startTime').execute()\n",
    "    events = events_result.get('items', [])\n",
    "    return events\n",
    "\n",
    "create_event_tool = Tool.from_function(\n",
    "    func=create_event,\n",
    "    name=\"Create Event\",\n",
    "    description=\"Creates an event in Google Calendar with specified details.\"\n",
    ")\n",
    "\n",
    "read_events_tool = Tool.from_function(\n",
    "    func=read_events,\n",
    "    name=\"Read Events\",\n",
    "    description=\"Fetches the upcoming events from the Google Calendar.\"\n",
    ")\n"
   ]
  },
  {
   "cell_type": "code",
   "execution_count": null,
   "metadata": {},
   "outputs": [
    {
     "ename": "ImportError",
     "evalue": "cannot import name 'EXCLUDED_METADATA_KEYS' from 'langgraph.checkpoint.base' (c:\\anaconda3\\envs\\gen_env\\lib\\site-packages\\langgraph\\checkpoint\\base\\__init__.py)",
     "output_type": "error",
     "traceback": [
      "\u001b[1;31m---------------------------------------------------------------------------\u001b[0m",
      "\u001b[1;31mImportError\u001b[0m                               Traceback (most recent call last)",
      "Cell \u001b[1;32mIn[60], line 1\u001b[0m\n\u001b[1;32m----> 1\u001b[0m \u001b[38;5;28;01mfrom\u001b[39;00m\u001b[38;5;250m \u001b[39m\u001b[38;5;21;01mlanggraph\u001b[39;00m\u001b[38;5;21;01m.\u001b[39;00m\u001b[38;5;21;01mgraph\u001b[39;00m\u001b[38;5;250m \u001b[39m\u001b[38;5;28;01mimport\u001b[39;00m Graph\n\u001b[0;32m      4\u001b[0m \u001b[38;5;28;01mdef\u001b[39;00m\u001b[38;5;250m \u001b[39m\u001b[38;5;21mmain_node\u001b[39m(action, event_details\u001b[38;5;241m=\u001b[39m\u001b[38;5;28;01mNone\u001b[39;00m):\n\u001b[0;32m      5\u001b[0m     \u001b[38;5;28;01mif\u001b[39;00m action \u001b[38;5;241m==\u001b[39m \u001b[38;5;124m'\u001b[39m\u001b[38;5;124mcreate\u001b[39m\u001b[38;5;124m'\u001b[39m:\n",
      "File \u001b[1;32mc:\\anaconda3\\envs\\gen_env\\lib\\site-packages\\langgraph\\graph\\__init__.py:1\u001b[0m\n\u001b[1;32m----> 1\u001b[0m \u001b[38;5;28;01mfrom\u001b[39;00m\u001b[38;5;250m \u001b[39m\u001b[38;5;21;01mlanggraph\u001b[39;00m\u001b[38;5;21;01m.\u001b[39;00m\u001b[38;5;21;01mgraph\u001b[39;00m\u001b[38;5;21;01m.\u001b[39;00m\u001b[38;5;21;01mgraph\u001b[39;00m\u001b[38;5;250m \u001b[39m\u001b[38;5;28;01mimport\u001b[39;00m END, START, Graph\n\u001b[0;32m      2\u001b[0m \u001b[38;5;28;01mfrom\u001b[39;00m\u001b[38;5;250m \u001b[39m\u001b[38;5;21;01mlanggraph\u001b[39;00m\u001b[38;5;21;01m.\u001b[39;00m\u001b[38;5;21;01mgraph\u001b[39;00m\u001b[38;5;21;01m.\u001b[39;00m\u001b[38;5;21;01mmessage\u001b[39;00m\u001b[38;5;250m \u001b[39m\u001b[38;5;28;01mimport\u001b[39;00m MessageGraph, MessagesState, add_messages\n\u001b[0;32m      3\u001b[0m \u001b[38;5;28;01mfrom\u001b[39;00m\u001b[38;5;250m \u001b[39m\u001b[38;5;21;01mlanggraph\u001b[39;00m\u001b[38;5;21;01m.\u001b[39;00m\u001b[38;5;21;01mgraph\u001b[39;00m\u001b[38;5;21;01m.\u001b[39;00m\u001b[38;5;21;01mstate\u001b[39;00m\u001b[38;5;250m \u001b[39m\u001b[38;5;28;01mimport\u001b[39;00m StateGraph\n",
      "File \u001b[1;32mc:\\anaconda3\\envs\\gen_env\\lib\\site-packages\\langgraph\\graph\\graph.py:34\u001b[0m\n\u001b[0;32m     24\u001b[0m \u001b[38;5;28;01mfrom\u001b[39;00m\u001b[38;5;250m \u001b[39m\u001b[38;5;21;01mlanggraph\u001b[39;00m\u001b[38;5;21;01m.\u001b[39;00m\u001b[38;5;21;01mconstants\u001b[39;00m\u001b[38;5;250m \u001b[39m\u001b[38;5;28;01mimport\u001b[39;00m (\n\u001b[0;32m     25\u001b[0m     EMPTY_SEQ,\n\u001b[0;32m     26\u001b[0m     END,\n\u001b[1;32m   (...)\u001b[0m\n\u001b[0;32m     31\u001b[0m     Send,\n\u001b[0;32m     32\u001b[0m )\n\u001b[0;32m     33\u001b[0m \u001b[38;5;28;01mfrom\u001b[39;00m\u001b[38;5;250m \u001b[39m\u001b[38;5;21;01mlanggraph\u001b[39;00m\u001b[38;5;21;01m.\u001b[39;00m\u001b[38;5;21;01mgraph\u001b[39;00m\u001b[38;5;21;01m.\u001b[39;00m\u001b[38;5;21;01mbranch\u001b[39;00m\u001b[38;5;250m \u001b[39m\u001b[38;5;28;01mimport\u001b[39;00m Branch\n\u001b[1;32m---> 34\u001b[0m \u001b[38;5;28;01mfrom\u001b[39;00m\u001b[38;5;250m \u001b[39m\u001b[38;5;21;01mlanggraph\u001b[39;00m\u001b[38;5;21;01m.\u001b[39;00m\u001b[38;5;21;01mpregel\u001b[39;00m\u001b[38;5;250m \u001b[39m\u001b[38;5;28;01mimport\u001b[39;00m Channel, Pregel\n\u001b[0;32m     35\u001b[0m \u001b[38;5;28;01mfrom\u001b[39;00m\u001b[38;5;250m \u001b[39m\u001b[38;5;21;01mlanggraph\u001b[39;00m\u001b[38;5;21;01m.\u001b[39;00m\u001b[38;5;21;01mpregel\u001b[39;00m\u001b[38;5;21;01m.\u001b[39;00m\u001b[38;5;21;01mprotocol\u001b[39;00m\u001b[38;5;250m \u001b[39m\u001b[38;5;28;01mimport\u001b[39;00m PregelProtocol\n\u001b[0;32m     36\u001b[0m \u001b[38;5;28;01mfrom\u001b[39;00m\u001b[38;5;250m \u001b[39m\u001b[38;5;21;01mlanggraph\u001b[39;00m\u001b[38;5;21;01m.\u001b[39;00m\u001b[38;5;21;01mpregel\u001b[39;00m\u001b[38;5;21;01m.\u001b[39;00m\u001b[38;5;21;01mread\u001b[39;00m\u001b[38;5;250m \u001b[39m\u001b[38;5;28;01mimport\u001b[39;00m PregelNode\n",
      "File \u001b[1;32mc:\\anaconda3\\envs\\gen_env\\lib\\site-packages\\langgraph\\pregel\\__init__.py:96\u001b[0m\n\u001b[0;32m     94\u001b[0m \u001b[38;5;28;01mfrom\u001b[39;00m\u001b[38;5;250m \u001b[39m\u001b[38;5;21;01mlanggraph\u001b[39;00m\u001b[38;5;21;01m.\u001b[39;00m\u001b[38;5;21;01mpregel\u001b[39;00m\u001b[38;5;21;01m.\u001b[39;00m\u001b[38;5;21;01mdebug\u001b[39;00m\u001b[38;5;250m \u001b[39m\u001b[38;5;28;01mimport\u001b[39;00m tasks_w_writes\n\u001b[0;32m     95\u001b[0m \u001b[38;5;28;01mfrom\u001b[39;00m\u001b[38;5;250m \u001b[39m\u001b[38;5;21;01mlanggraph\u001b[39;00m\u001b[38;5;21;01m.\u001b[39;00m\u001b[38;5;21;01mpregel\u001b[39;00m\u001b[38;5;21;01m.\u001b[39;00m\u001b[38;5;21;01mio\u001b[39;00m\u001b[38;5;250m \u001b[39m\u001b[38;5;28;01mimport\u001b[39;00m map_input, read_channels\n\u001b[1;32m---> 96\u001b[0m \u001b[38;5;28;01mfrom\u001b[39;00m\u001b[38;5;250m \u001b[39m\u001b[38;5;21;01mlanggraph\u001b[39;00m\u001b[38;5;21;01m.\u001b[39;00m\u001b[38;5;21;01mpregel\u001b[39;00m\u001b[38;5;21;01m.\u001b[39;00m\u001b[38;5;21;01mloop\u001b[39;00m\u001b[38;5;250m \u001b[39m\u001b[38;5;28;01mimport\u001b[39;00m AsyncPregelLoop, StreamProtocol, SyncPregelLoop\n\u001b[0;32m     97\u001b[0m \u001b[38;5;28;01mfrom\u001b[39;00m\u001b[38;5;250m \u001b[39m\u001b[38;5;21;01mlanggraph\u001b[39;00m\u001b[38;5;21;01m.\u001b[39;00m\u001b[38;5;21;01mpregel\u001b[39;00m\u001b[38;5;21;01m.\u001b[39;00m\u001b[38;5;21;01mmanager\u001b[39;00m\u001b[38;5;250m \u001b[39m\u001b[38;5;28;01mimport\u001b[39;00m AsyncChannelsManager, ChannelsManager\n\u001b[0;32m     98\u001b[0m \u001b[38;5;28;01mfrom\u001b[39;00m\u001b[38;5;250m \u001b[39m\u001b[38;5;21;01mlanggraph\u001b[39;00m\u001b[38;5;21;01m.\u001b[39;00m\u001b[38;5;21;01mpregel\u001b[39;00m\u001b[38;5;21;01m.\u001b[39;00m\u001b[38;5;21;01mmessages\u001b[39;00m\u001b[38;5;250m \u001b[39m\u001b[38;5;28;01mimport\u001b[39;00m StreamMessagesHandler\n",
      "File \u001b[1;32mc:\\anaconda3\\envs\\gen_env\\lib\\site-packages\\langgraph\\pregel\\loop.py:32\u001b[0m\n\u001b[0;32m     29\u001b[0m \u001b[38;5;28;01mfrom\u001b[39;00m\u001b[38;5;250m \u001b[39m\u001b[38;5;21;01mtyping_extensions\u001b[39;00m\u001b[38;5;250m \u001b[39m\u001b[38;5;28;01mimport\u001b[39;00m ParamSpec, Self\n\u001b[0;32m     31\u001b[0m \u001b[38;5;28;01mfrom\u001b[39;00m\u001b[38;5;250m \u001b[39m\u001b[38;5;21;01mlanggraph\u001b[39;00m\u001b[38;5;21;01m.\u001b[39;00m\u001b[38;5;21;01mchannels\u001b[39;00m\u001b[38;5;21;01m.\u001b[39;00m\u001b[38;5;21;01mbase\u001b[39;00m\u001b[38;5;250m \u001b[39m\u001b[38;5;28;01mimport\u001b[39;00m BaseChannel\n\u001b[1;32m---> 32\u001b[0m \u001b[38;5;28;01mfrom\u001b[39;00m\u001b[38;5;250m \u001b[39m\u001b[38;5;21;01mlanggraph\u001b[39;00m\u001b[38;5;21;01m.\u001b[39;00m\u001b[38;5;21;01mcheckpoint\u001b[39;00m\u001b[38;5;21;01m.\u001b[39;00m\u001b[38;5;21;01mbase\u001b[39;00m\u001b[38;5;250m \u001b[39m\u001b[38;5;28;01mimport\u001b[39;00m (\n\u001b[0;32m     33\u001b[0m     EXCLUDED_METADATA_KEYS,\n\u001b[0;32m     34\u001b[0m     WRITES_IDX_MAP,\n\u001b[0;32m     35\u001b[0m     BaseCheckpointSaver,\n\u001b[0;32m     36\u001b[0m     ChannelVersions,\n\u001b[0;32m     37\u001b[0m     Checkpoint,\n\u001b[0;32m     38\u001b[0m     CheckpointMetadata,\n\u001b[0;32m     39\u001b[0m     CheckpointTuple,\n\u001b[0;32m     40\u001b[0m     PendingWrite,\n\u001b[0;32m     41\u001b[0m     copy_checkpoint,\n\u001b[0;32m     42\u001b[0m )\n\u001b[0;32m     43\u001b[0m \u001b[38;5;28;01mfrom\u001b[39;00m\u001b[38;5;250m \u001b[39m\u001b[38;5;21;01mlanggraph\u001b[39;00m\u001b[38;5;21;01m.\u001b[39;00m\u001b[38;5;21;01mconstants\u001b[39;00m\u001b[38;5;250m \u001b[39m\u001b[38;5;28;01mimport\u001b[39;00m (\n\u001b[0;32m     44\u001b[0m     CONF,\n\u001b[0;32m     45\u001b[0m     CONFIG_KEY_CHECKPOINT_ID,\n\u001b[1;32m   (...)\u001b[0m\n\u001b[0;32m     66\u001b[0m     TASKS,\n\u001b[0;32m     67\u001b[0m )\n\u001b[0;32m     68\u001b[0m \u001b[38;5;28;01mfrom\u001b[39;00m\u001b[38;5;250m \u001b[39m\u001b[38;5;21;01mlanggraph\u001b[39;00m\u001b[38;5;21;01m.\u001b[39;00m\u001b[38;5;21;01merrors\u001b[39;00m\u001b[38;5;250m \u001b[39m\u001b[38;5;28;01mimport\u001b[39;00m (\n\u001b[0;32m     69\u001b[0m     CheckpointNotLatest,\n\u001b[0;32m     70\u001b[0m     EmptyInputError,\n\u001b[0;32m     71\u001b[0m     GraphDelegate,\n\u001b[0;32m     72\u001b[0m     GraphInterrupt,\n\u001b[0;32m     73\u001b[0m )\n",
      "\u001b[1;31mImportError\u001b[0m: cannot import name 'EXCLUDED_METADATA_KEYS' from 'langgraph.checkpoint.base' (c:\\anaconda3\\envs\\gen_env\\lib\\site-packages\\langgraph\\checkpoint\\base\\__init__.py)"
     ]
    }
   ],
   "source": [
    "from langgraph.graph import Graph\n",
    "\n",
    "\n",
    "def main_node(action, event_details=None):\n",
    "    if action == 'create':\n",
    "        return create_event_tool.invoke(event_details)\n",
    "    elif action == 'read':\n",
    "        return read_events_tool.invoke()\n",
    "    else:\n",
    "        return \"Invalid action. Choose 'create' or 'read'.\"\n",
    "\n",
    "graph = StateGraph()\n",
    "\n",
    "graph.add_node(\"Action Node\",main_node)\n",
    "\n",
    "graph.add_node(node)\n"
   ]
  },
  {
   "cell_type": "code",
   "execution_count": null,
   "metadata": {},
   "outputs": [
    {
     "name": "stdout",
     "output_type": "stream",
     "text": [
      "[{\"id\": \"mehtakushaagra@gmail.com\", \"summary\": \"mehtakushaagra@gmail.com\", \"timeZone\": \"Asia/Kolkata\"}, {\"id\": \"classroom103106523056071358682@group.calendar.google.com\", \"summary\": \"CSE-B BASIC ELECTRICAL AND ELECTRONICS ENGINEERING\", \"timeZone\": \"UTC\"}, {\"id\": \"classroom116947381688849148008@group.calendar.google.com\", \"summary\": \"CSE- (AIML) Section-B Section-B\", \"timeZone\": \"UTC\"}, {\"id\": \"classroom110977993322683238737@group.calendar.google.com\", \"summary\": \"CSE-(AIML)-B B\", \"timeZone\": \"UTC\"}, {\"id\": \"classroom106680339530374295906@group.calendar.google.com\", \"summary\": \"CSE-AIML (EGD) Sec- B\", \"timeZone\": \"UTC\"}, {\"id\": \"classroom105052323965966063530@group.calendar.google.com\", \"summary\": \"CSE AIML B B\", \"timeZone\": \"UTC\"}, {\"id\": \"classroom116950500052228117542@group.calendar.google.com\", \"summary\": \"CSE- AIML SEC-B\", \"timeZone\": \"UTC\"}]\n"
     ]
    }
   ],
   "source": [
    "tool = GetCalendarsInfo()  \n",
    "\n",
    "result = tool.invoke({})\n",
    "\n",
    "print(result)\n",
    "[{\"id\": \"mehtakushaagra@gmail.com\", \"summary\": \"mehtakushaagra@gmail.com\", \"timeZone\": \"Asia/Kolkata\"}, \n",
    " {\"id\": \"classroom103106523056071358682@group.calendar.google.com\", \"summary\": \"CSE-B BASIC ELECTRICAL AND ELECTRONICS ENGINEERING\", \"timeZone\": \"UTC\"}, \n",
    " {\"id\": \"classroom116947381688849148008@group.calendar.google.com\", \"summary\": \"CSE- (AIML) Section-B Section-B\", \"timeZone\": \"UTC\"}, \n",
    " {\"id\": \"classroom110977993322683238737@group.calendar.google.com\", \"summary\": \"CSE-(AIML)-B B\", \"timeZone\": \"UTC\"}, \n",
    " {\"id\": \"classroom106680339530374295906@group.calendar.google.com\", \"summary\": \"CSE-AIML (EGD) Sec- B\", \"timeZone\": \"UTC\"}, \n",
    " {\"id\": \"classroom105052323965966063530@group.calendar.google.com\", \"summary\": \"CSE AIML B B\", \"timeZone\": \"UTC\"}, \n",
    " {\"id\": \"classroom116950500052228117542@group.calendar.google.com\", \"summary\": \"CSE- AIML SEC-B\", \"timeZone\": \"UTC\"}]"
   ]
  },
  {
   "cell_type": "code",
   "execution_count": null,
   "metadata": {},
   "outputs": [],
   "source": [
    "import ast\n",
    "parsed = ast.literal_eval(result)\n"
   ]
  },
  {
   "cell_type": "code",
   "execution_count": 66,
   "metadata": {},
   "outputs": [
    {
     "data": {
      "text/plain": [
       "[{'id': 'mehtakushaagra@gmail.com',\n",
       "  'summary': 'mehtakushaagra@gmail.com',\n",
       "  'timeZone': 'Asia/Kolkata'},\n",
       " {'id': 'classroom103106523056071358682@group.calendar.google.com',\n",
       "  'summary': 'CSE-B BASIC ELECTRICAL AND ELECTRONICS ENGINEERING',\n",
       "  'timeZone': 'UTC'},\n",
       " {'id': 'classroom116947381688849148008@group.calendar.google.com',\n",
       "  'summary': 'CSE- (AIML) Section-B Section-B',\n",
       "  'timeZone': 'UTC'},\n",
       " {'id': 'classroom110977993322683238737@group.calendar.google.com',\n",
       "  'summary': 'CSE-(AIML)-B B',\n",
       "  'timeZone': 'UTC'},\n",
       " {'id': 'classroom106680339530374295906@group.calendar.google.com',\n",
       "  'summary': 'CSE-AIML (EGD) Sec- B',\n",
       "  'timeZone': 'UTC'},\n",
       " {'id': 'classroom105052323965966063530@group.calendar.google.com',\n",
       "  'summary': 'CSE AIML B B',\n",
       "  'timeZone': 'UTC'},\n",
       " {'id': 'classroom116950500052228117542@group.calendar.google.com',\n",
       "  'summary': 'CSE- AIML SEC-B',\n",
       "  'timeZone': 'UTC'}]"
      ]
     },
     "execution_count": 66,
     "metadata": {},
     "output_type": "execute_result"
    }
   ],
   "source": [
    "parsed"
   ]
  },
  {
   "cell_type": "code",
   "execution_count": 86,
   "metadata": {},
   "outputs": [
    {
     "name": "stdout",
     "output_type": "stream",
     "text": [
      "[{'id': '1u00s2pp1d0k842l3et1qei1i9', 'htmlLink': 'https://www.google.com/calendar/event?eid=MXUwMHMycHAxZDBrODQybDNldDFxZWkxaTkgbWVodGFrdXNoYWFncmFAbQ', 'summary': 'temp 1', 'creator': 'mehtakushaagra@gmail.com', 'organizer': 'mehtakushaagra@gmail.com', 'start': '2025-04-17T08:00:00+05:30', 'end': '2025-04-17T09:00:00+05:30'}, {'id': '194oc3rkaq4o589hd3s52ndoio', 'htmlLink': 'https://www.google.com/calendar/event?eid=MTk0b2MzcmthcTRvNTg5aGQzczUybmRvaW8gbWVodGFrdXNoYWFncmFAbQ', 'summary': 'temp 2', 'creator': 'mehtakushaagra@gmail.com', 'organizer': 'mehtakushaagra@gmail.com', 'start': '2025-04-18T09:30:00+05:30', 'end': '2025-04-18T10:30:00+05:30'}, {'id': '692qmv3lfubmu1oq16tluj9qa1', 'htmlLink': 'https://www.google.com/calendar/event?eid=NjkycW12M2xmdWJtdTFvcTE2dGx1ajlxYTEgbWVodGFrdXNoYWFncmFAbQ', 'summary': 'temp3', 'creator': 'mehtakushaagra@gmail.com', 'organizer': 'mehtakushaagra@gmail.com', 'start': '2025-04-22T18:30:00+05:30', 'end': '2025-04-22T19:30:00+05:30'}]\n"
     ]
    }
   ],
   "source": [
    "from langchain_google_community.calendar.search_events import CalendarSearchEvents\n",
    "\n",
    "# Suppose you already have this info from GetCalendarsInfo\n",
    "calendars_info = '[{\"id\": \"primary\", \"timeZone\": \"Asia/Kolkata\"}]'\n",
    "\n",
    "tool = CalendarSearchEvents()\n",
    "\n",
    "result = tool.invoke({\n",
    "    \"calendars_info\": calendars_info,\n",
    "    \"min_datetime\": \"2025-04-16 00:00:00\",\n",
    "    \"max_datetime\": \"2025-04-30 00:00:00\",\n",
    "    \"max_results\": 5,\n",
    "    \"single_events\": True,\n",
    "    \"order_by\": \"startTime\",\n",
    "    \n",
    "})\n",
    "\n",
    "print(result)"
   ]
  },
  {
   "cell_type": "code",
   "execution_count": 89,
   "metadata": {},
   "outputs": [
    {
     "data": {
      "text/plain": [
       "[{'id': '1u00s2pp1d0k842l3et1qei1i9',\n",
       "  'htmlLink': 'https://www.google.com/calendar/event?eid=MXUwMHMycHAxZDBrODQybDNldDFxZWkxaTkgbWVodGFrdXNoYWFncmFAbQ',\n",
       "  'summary': 'temp 1',\n",
       "  'creator': 'mehtakushaagra@gmail.com',\n",
       "  'organizer': 'mehtakushaagra@gmail.com',\n",
       "  'start': '2025-04-17T08:00:00+05:30',\n",
       "  'end': '2025-04-17T09:00:00+05:30'},\n",
       " {'id': '194oc3rkaq4o589hd3s52ndoio',\n",
       "  'htmlLink': 'https://www.google.com/calendar/event?eid=MTk0b2MzcmthcTRvNTg5aGQzczUybmRvaW8gbWVodGFrdXNoYWFncmFAbQ',\n",
       "  'summary': 'temp 2',\n",
       "  'creator': 'mehtakushaagra@gmail.com',\n",
       "  'organizer': 'mehtakushaagra@gmail.com',\n",
       "  'start': '2025-04-18T09:30:00+05:30',\n",
       "  'end': '2025-04-18T10:30:00+05:30'},\n",
       " {'id': '692qmv3lfubmu1oq16tluj9qa1',\n",
       "  'htmlLink': 'https://www.google.com/calendar/event?eid=NjkycW12M2xmdWJtdTFvcTE2dGx1ajlxYTEgbWVodGFrdXNoYWFncmFAbQ',\n",
       "  'summary': 'temp3',\n",
       "  'creator': 'mehtakushaagra@gmail.com',\n",
       "  'organizer': 'mehtakushaagra@gmail.com',\n",
       "  'start': '2025-04-22T18:30:00+05:30',\n",
       "  'end': '2025-04-22T19:30:00+05:30'}]"
      ]
     },
     "execution_count": 89,
     "metadata": {},
     "output_type": "execute_result"
    }
   ],
   "source": [
    "result\n"
   ]
  }
 ],
 "metadata": {
  "kernelspec": {
   "display_name": "gen_env",
   "language": "python",
   "name": "python3"
  },
  "language_info": {
   "codemirror_mode": {
    "name": "ipython",
    "version": 3
   },
   "file_extension": ".py",
   "mimetype": "text/x-python",
   "name": "python",
   "nbconvert_exporter": "python",
   "pygments_lexer": "ipython3",
   "version": "3.10.16"
  }
 },
 "nbformat": 4,
 "nbformat_minor": 2
}
